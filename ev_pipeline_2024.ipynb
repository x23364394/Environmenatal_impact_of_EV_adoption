{
 "cells": [
  {
   "cell_type": "code",
   "execution_count": 8,
   "id": "82e4865c",
   "metadata": {},
   "outputs": [],
   "source": [
    "import json\n",
    "from pymongo import MongoClient\n",
    "\n",
    "#1:Now we try to upload the json to mongodb\n",
    "cl=MongoClient('mongodb://localhost:27017/')\n",
    "dab=cl['ev_project']\n",
    "coll=dab['ev_registrations']\n",
    "coll.drop()\n",
    "\n",
    "with open('ev_registrations.json','r') as file:\n",
    "    json_da=json.load(file)\n",
    "da=json_da['data']\n",
    "colm=[col['name']for col in json_da['meta']['view']['columns']]\n",
    "data_dt=[dict(zip(colm,recd))for recd in da]\n",
    "\n",
    "#it is also necessary for us to insert it in chunks for better efficiency\n",
    "cz=1000\n",
    "total_rec=len(data_dt)\n",
    "for i in range(0,total_rec,cz):\n",
    "    ck=data_dt[i:i+cz]\n",
    "    coll.insert_many(ck)\n",
    "        \n"
   ]
  },
  {
   "cell_type": "markdown",
   "id": "425f964e",
   "metadata": {},
   "source": []
  },
  {
   "cell_type": "code",
   "execution_count": 13,
   "id": "8604d008-92e0-4ac0-adef-7c48c16705f9",
   "metadata": {},
   "outputs": [
    {
     "name": "stdout",
     "output_type": "stream",
     "text": [
      "8797\n",
      "uniq residential county 39\n",
      "unique fuel type 1\n",
      "8448\n",
      "first 5 rows   Residential County YearMonth Fuel Type  Primary Use Class  Counts\n",
      "0              Adams   2023-01  Electric         Commercial       1\n",
      "1              Adams   2023-01  Electric  Passenger Vehicle       1\n",
      "2              Adams   2023-02  Electric              Truck       1\n",
      "3              Adams   2023-03  Electric  Passenger Vehicle       1\n",
      "4              Adams   2023-04  Electric  Passenger Vehicle       4\n"
     ]
    }
   ],
   "source": [
    "import pandas as pd\n",
    "from pymongo import MongoClient\n",
    "from datetime import datetime\n",
    "\n",
    "cl=MongoClient('mongodb://localhost:27017/')\n",
    "dab=cl['ev_project']\n",
    "coll=dab['ev_registrations']\n",
    "\n",
    "sd=datetime(2023,1,1)\n",
    "ed=datetime(2025,6,30)\n",
    "evda=list(coll.find({'Fuel Type':'Electric','Transaction Date':{'$gte':sd.strftime('%Y-%m-%d'),'$lte':ed.strftime('%Y-%m-%d')}}))\n",
    "\n",
    "df=pd.DataFrame(evda).drop(columns=['_id','sid','id','position','created_at','updated_at','updated_meta','meta','Fiscal Year'],errors='ignore')\n",
    "\n",
    "df['Counts']=pd.to_numeric(df['Counts'],errors='coerce')\n",
    "df=df.drop_duplicates()\n",
    "print(len(df))\n",
    "\n",
    "print('uniq residential county',df['Residential County'].nunique())\n",
    "print('unique fuel type',df['Fuel Type'].nunique())\n",
    "print(df['Counts'].max())  #we try to see the max value of counts\n",
    "\n",
    "#we try to print only the monthly data instead of daily data\n",
    "df['Transaction Date']=pd.to_datetime(df['Transaction Date'])\n",
    "df['YearMonth']=df['Transaction Date'].dt.to_period('M')\n",
    "df_group=df.groupby(['Residential County','YearMonth','Fuel Type','Primary Use Class'],as_index=False)['Counts'].sum()\n",
    "df_group['Residential County']=df_group['Residential County'].str.strip()\n",
    "\n",
    "print('first 5 rows',df_group.head())\n",
    "df_group.to_csv('ev_cleaned_monthly.csv',index=False)\n"
   ]
  },
  {
   "cell_type": "code",
   "execution_count": null,
   "id": "1db87126",
   "metadata": {},
   "outputs": [],
   "source": []
  }
 ],
 "metadata": {
  "kernelspec": {
   "display_name": "base",
   "language": "python",
   "name": "python3"
  },
  "language_info": {
   "codemirror_mode": {
    "name": "ipython",
    "version": 3
   },
   "file_extension": ".py",
   "mimetype": "text/x-python",
   "name": "python",
   "nbconvert_exporter": "python",
   "pygments_lexer": "ipython3",
   "version": "3.12.7"
  }
 },
 "nbformat": 4,
 "nbformat_minor": 5
}
