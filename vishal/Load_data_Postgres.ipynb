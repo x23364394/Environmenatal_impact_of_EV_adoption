{
 "cells": [
  {
   "cell_type": "markdown",
   "id": "7644ab3b-e6a5-4820-a983-cf1a66c3b475",
   "metadata": {},
   "source": [
    "## Load data to postgresql"
   ]
  },
  {
   "cell_type": "code",
   "execution_count": 4,
   "id": "11ca23d9-b827-4559-8fa9-c732b08bf3cf",
   "metadata": {},
   "outputs": [
    {
     "name": "stdout",
     "output_type": "stream",
     "text": [
      "  county       city  month  week  weekly_pollutant_mean  first_max_value  \\\n",
      "0  Clark  Vancouver      1     1               5.233598             20.0   \n",
      "1  Clark  Vancouver      1     2               4.232879             18.0   \n",
      "2  Clark  Vancouver      1     3              11.234921             37.0   \n",
      "3  Clark  Vancouver      1     4               2.589792             16.0   \n",
      "4  Clark  Vancouver      1     5               5.274074             17.0   \n",
      "\n",
      "   weekly_aqi_avg  local_site_name  year  \n",
      "0       26.490741                1  2024  \n",
      "1       21.426530                1  2024  \n",
      "2       46.460317                1  2024  \n",
      "3       13.243760                1  2024  \n",
      "4       26.666667                1  2024  \n"
     ]
    }
   ],
   "source": [
    "import pandas as pd \n",
    "import mysql.connector\n",
    "import numpy as np\n",
    "\n",
    "df = pd.read_csv('cleaned_air_quality_washington.csv')\n",
    "\n",
    "print(df.head())"
   ]
  },
  {
   "cell_type": "code",
   "execution_count": 6,
   "id": "ea237d50-8bf8-4624-925c-c79d7ead9a2f",
   "metadata": {},
   "outputs": [],
   "source": [
    "# Connecting to MySQL\n",
    "mysql_con = mysql.connector.connect(host='localhost', user='aqi_user', password='Vishal123', \n",
    "                                     database='ev_project_final')"
   ]
  },
  {
   "cell_type": "code",
   "execution_count": 8,
   "id": "02592ad9-3db0-4cd8-9159-ba2ab7fd763a",
   "metadata": {},
   "outputs": [],
   "source": [
    "# Created cursor to operate\n",
    "cursor = mysql_con.cursor()"
   ]
  },
  {
   "cell_type": "code",
   "execution_count": 14,
   "id": "7726a5ea-7069-448a-89c8-ae4465d73771",
   "metadata": {},
   "outputs": [],
   "source": [
    "# Converting all pandas and numpy nullable types to Python types\n",
    "con_df = df.copy()  # Avoid modifying original DataFrame\n",
    "for col in con_df.columns:\n",
    "    dtype = con_df[col].dtype\n",
    "    if pd.api.types.is_integer_dtype(dtype):  # Handles pandas UInt32Dtype, Int64Dtype, etc.\n",
    "        con_df[col] = con_df[col].astype('int32', errors='ignore').fillna(0).apply(lambda x: int(x))  # Convert to Python int\n",
    "    elif pd.api.types.is_float_dtype(dtype):  # Handles float64, float32\n",
    "        con_df[col] = con_df[col].astype('float64', errors='ignore').fillna(0.0).apply(lambda x: float(x))  # Convert to Python float\n",
    "    elif pd.api.types.is_string_dtype(dtype) or pd.api.types.is_object_dtype(dtype):\n",
    "        con_df[col] = con_df[col].astype(str).replace('nan', '')  # Convert objects/strings, handle NaN\n",
    "    # Add other type conversions if needed (e.g., datetime)\n"
   ]
  },
  {
   "cell_type": "code",
   "execution_count": 20,
   "id": "f82bd24a-098e-4fdc-b0c4-756d4f0625c2",
   "metadata": {},
   "outputs": [],
   "source": [
    "# Dropping table if it exists\n",
    "cursor.execute(\"DROP TABLE IF EXISTS ev_analysis\")"
   ]
  },
  {
   "cell_type": "code",
   "execution_count": 22,
   "id": "920ec5ed-4171-4ef3-af7d-942357129c22",
   "metadata": {},
   "outputs": [],
   "source": [
    "# Creating table with data of DataFrame \n",
    "columns = con_df.columns\n",
    "column_dtypes = []\n",
    "for col in columns:\n",
    "    dtype = con_df[col].dtype\n",
    "    if pd.api.types.is_integer_dtype(dtype):\n",
    "        column_dtypes.append(f\"`{col}` INT\")\n",
    "    elif pd.api.types.is_float_dtype(dtype):\n",
    "        column_dtypes.append(f\"`{col}` FLOAT\")\n",
    "    else:\n",
    "        column_dtypes.append(f\"`{col}` VARCHAR(255)\")  \n"
   ]
  },
  {
   "cell_type": "code",
   "execution_count": 26,
   "id": "7a910a08-8239-443d-96da-5730a7e7f02a",
   "metadata": {},
   "outputs": [],
   "source": [
    "# Creating table\n",
    "create_table = f\"CREATE TABLE ev_analysis ({', '.join(column_dtypes)})\"\n",
    "cursor.execute(create_table)"
   ]
  },
  {
   "cell_type": "code",
   "execution_count": 28,
   "id": "908fe072-de9f-47d1-a9eb-3ccd2b3aaa35",
   "metadata": {},
   "outputs": [],
   "source": [
    "# Insert data in the created table \n",
    "insert_data = f\"INSERT INTO ev_analysis ({', '.join([f'`{col}`' for col in columns])}) VALUES ({', '.join(['%s'] * len(columns))})\"\n",
    "for row in con_df.itertuples(index=False):\n",
    "    row = tuple(\n",
    "        int(x) if pd.api.types.is_integer_dtype(type(x)) \n",
    "        else float(x) if pd.api.types.is_float_dtype(type(x)) \n",
    "        else str(x) for x in row\n",
    "    )\n",
    "    cursor.execute(insert_data, row)"
   ]
  },
  {
   "cell_type": "code",
   "execution_count": 32,
   "id": "751a7bad-fc70-463d-ae4b-e96066a6d40d",
   "metadata": {},
   "outputs": [],
   "source": [
    "# Commit changes\n",
    "mysql_con.commit()"
   ]
  },
  {
   "cell_type": "code",
   "execution_count": 38,
   "id": "3eb5db2b-48c1-403f-9b82-d837e97fc0f8",
   "metadata": {},
   "outputs": [
    {
     "name": "stdout",
     "output_type": "stream",
     "text": [
      "Cleaned data loaded into MySQL table 'ev_analysis'.\n"
     ]
    }
   ],
   "source": [
    "print(\"Cleaned data loaded into MySQL table 'ev_analysis'.\")"
   ]
  },
  {
   "cell_type": "code",
   "execution_count": 36,
   "id": "65c013a8-8a88-4468-af79-a211136bb716",
   "metadata": {},
   "outputs": [],
   "source": [
    "# Close cursor and connection\n",
    "cursor.close()\n",
    "mysql_con.close()"
   ]
  },
  {
   "cell_type": "code",
   "execution_count": null,
   "id": "3537426c-5f02-487a-8e30-981024d6d162",
   "metadata": {},
   "outputs": [],
   "source": []
  }
 ],
 "metadata": {
  "kernelspec": {
   "display_name": "Python [conda env:base] *",
   "language": "python",
   "name": "conda-base-py"
  },
  "language_info": {
   "codemirror_mode": {
    "name": "ipython",
    "version": 3
   },
   "file_extension": ".py",
   "mimetype": "text/x-python",
   "name": "python",
   "nbconvert_exporter": "python",
   "pygments_lexer": "ipython3",
   "version": "3.12.7"
  }
 },
 "nbformat": 4,
 "nbformat_minor": 5
}
