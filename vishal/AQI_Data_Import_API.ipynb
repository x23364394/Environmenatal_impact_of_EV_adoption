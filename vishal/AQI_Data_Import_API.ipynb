{
 "cells": [
  {
   "cell_type": "code",
   "execution_count": 1,
   "id": "3638e1a0-5cca-4a79-b806-014640008e5b",
   "metadata": {},
   "outputs": [],
   "source": [
    "import requests\n",
    "import pandas as pd\n",
    "from datetime import datetime\n",
    "import json\n"
   ]
  },
  {
   "cell_type": "code",
   "execution_count": 2,
   "id": "b2d5ee25-ffc7-4a2e-a414-f95d2d35017d",
   "metadata": {},
   "outputs": [],
   "source": [
    "# Environmental protection Agency api account details \n",
    "acc_email = \"ch.vishal400@gmail.com\"  \n",
    "acc_apikey = \"sandkit13\" \n"
   ]
  },
  {
   "cell_type": "code",
   "execution_count": 3,
   "id": "4e922995-5aa6-4b11-863f-d46f02db24c3",
   "metadata": {},
   "outputs": [],
   "source": [
    "# common link to retrieve data by providing required parameters\n",
    "com_url = \"https://aqs.epa.gov/data/api/dailyData/byState\""
   ]
  },
  {
   "cell_type": "code",
   "execution_count": 4,
   "id": "9214896c-8536-44bc-bb16-64e23b454d5f",
   "metadata": {},
   "outputs": [],
   "source": [
    "# parameters that are required by the common link to retrieve data\n",
    "params = {\n",
    "    \"email\": acc_email,\n",
    "    \"key\": acc_apikey,\n",
    "    \"param\": \"88101\",  # PM2.5 (Particulate Matter pollution Local Conditions)\n",
    "    \"bdate\": \"20240101\",  # Dataset Begining date 1 January 2024\n",
    "    \"edate\": \"20241231\",  # Dataset Ending date 31 December 2024\n",
    "    \"state\": \"53\" }  # code of the Washington state"
   ]
  },
  {
   "cell_type": "code",
   "execution_count": 5,
   "id": "02a6a156-a0da-4ddd-b97b-ab6f33d58e78",
   "metadata": {},
   "outputs": [],
   "source": [
    "# defining function to get data from EPA by using api\n",
    "def air_quality(com_url, params):\n",
    "    response = requests.get(com_url, params=params)\n",
    "    if response.status_code == 200:\n",
    "        wa_data = response.json()\n",
    "        if wa_data[\"Header\"][0][\"status\"] == \"Success\":\n",
    "            return wa_data[\"Data\"]\n",
    "        else:\n",
    "            print(\"Some error occured:\", wa_data[\"Header\"][0][\"error\"])\n",
    "            return None\n",
    "    else:\n",
    "        print(f\" Error: {response.status_code}\")\n",
    "        return None"
   ]
  },
  {
   "cell_type": "code",
   "execution_count": 6,
   "id": "672414ef-2b2a-4c60-8d61-e77842fb8a00",
   "metadata": {},
   "outputs": [
    {
     "name": "stdout",
     "output_type": "stream",
     "text": [
      "Stared collecting data of washington aqi, 2024...\n"
     ]
    }
   ],
   "source": [
    "# retrieving the dataset of Washington aqi from EPA\n",
    "print(\"Stared collecting data of washington aqi, 2024...\")\n",
    "air_quality_data = air_quality(com_url, params)\n"
   ]
  },
  {
   "cell_type": "code",
   "execution_count": 7,
   "id": "e6b95cc4-6098-4398-af2e-29bdfef1bd42",
   "metadata": {},
   "outputs": [
    {
     "name": "stdout",
     "output_type": "stream",
     "text": [
      "<class 'pandas.core.frame.DataFrame'>\n",
      "  state_code county_code site_number parameter_code  poc   latitude  \\\n",
      "0         53         033        0030          88101    5  47.597222   \n",
      "1         53         033        0030          88101    5  47.597222   \n",
      "2         53         033        0030          88101    5  47.597222   \n",
      "3         53         033        0030          88101    5  47.597222   \n",
      "4         53         033        0030          88101    5  47.597222   \n",
      "\n",
      "    longitude  datum                 parameter sample_duration_code  ...  \\\n",
      "0 -122.319722  WGS84  PM2.5 - Local Conditions                    1  ...   \n",
      "1 -122.319722  WGS84  PM2.5 - Local Conditions                    X  ...   \n",
      "2 -122.319722  WGS84  PM2.5 - Local Conditions                    X  ...   \n",
      "3 -122.319722  WGS84  PM2.5 - Local Conditions                    X  ...   \n",
      "4 -122.319722  WGS84  PM2.5 - Local Conditions                    X  ...   \n",
      "\n",
      "  method_code                                             method  \\\n",
      "0         170  Met One BAM-1020 Mass Monitor w/VSCC - Beta At...   \n",
      "1         170  Met One BAM-1020 Mass Monitor w/VSCC - Beta At...   \n",
      "2         170  Met One BAM-1020 Mass Monitor w/VSCC - Beta At...   \n",
      "3         170  Met One BAM-1020 Mass Monitor w/VSCC - Beta At...   \n",
      "4         170  Met One BAM-1020 Mass Monitor w/VSCC - Beta At...   \n",
      "\n",
      "         local_site_name   site_address       state  county     city  \\\n",
      "0  Seattle-10th & Weller  10th & Weller  Washington    King  Seattle   \n",
      "1  Seattle-10th & Weller  10th & Weller  Washington    King  Seattle   \n",
      "2  Seattle-10th & Weller  10th & Weller  Washington    King  Seattle   \n",
      "3  Seattle-10th & Weller  10th & Weller  Washington    King  Seattle   \n",
      "4  Seattle-10th & Weller  10th & Weller  Washington    King  Seattle   \n",
      "\n",
      "  cbsa_code                         cbsa  date_of_last_change  \n",
      "0     42660  Seattle-Tacoma-Bellevue, WA           2025-04-04  \n",
      "1     42660  Seattle-Tacoma-Bellevue, WA           2025-04-04  \n",
      "2     42660  Seattle-Tacoma-Bellevue, WA           2025-04-04  \n",
      "3     42660  Seattle-Tacoma-Bellevue, WA           2025-04-04  \n",
      "4     42660  Seattle-Tacoma-Bellevue, WA           2025-04-04  \n",
      "\n",
      "[5 rows x 32 columns]\n",
      "['state_code', 'county_code', 'site_number', 'parameter_code', 'poc', 'latitude', 'longitude', 'datum', 'parameter', 'sample_duration_code', 'sample_duration', 'pollutant_standard', 'date_local', 'units_of_measure', 'event_type', 'observation_count', 'observation_percent', 'validity_indicator', 'arithmetic_mean', 'first_max_value', 'first_max_hour', 'aqi', 'method_code', 'method', 'local_site_name', 'site_address', 'state', 'county', 'city', 'cbsa_code', 'cbsa', 'date_of_last_change']\n",
      "Number of rows: 70939\n",
      "<class 'list'>\n"
     ]
    }
   ],
   "source": [
    "air = pd.DataFrame(air_quality_data)  \n",
    "\n",
    "# checking the starting basic information\n",
    "print(type(air))  \n",
    "print(air.head())  \n",
    "print(air.columns.tolist())\n",
    "print(\"Number of rows:\", len(air))\n",
    "print(type(air_quality_data))"
   ]
  },
  {
   "cell_type": "code",
   "execution_count": 8,
   "id": "6f0395c7-2912-4ddb-bf88-dcf4aa720b57",
   "metadata": {},
   "outputs": [],
   "source": [
    "# saving this dataset in the json file\n",
    "with open('air_quality_washington.json', 'w') as f:\n",
    "    json.dump(air_quality_data, f, indent=4)\n"
   ]
  }
 ],
 "metadata": {
  "kernelspec": {
   "display_name": "Python [conda env:base] *",
   "language": "python",
   "name": "conda-base-py"
  },
  "language_info": {
   "codemirror_mode": {
    "name": "ipython",
    "version": 3
   },
   "file_extension": ".py",
   "mimetype": "text/x-python",
   "name": "python",
   "nbconvert_exporter": "python",
   "pygments_lexer": "ipython3",
   "version": "3.12.7"
  }
 },
 "nbformat": 4,
 "nbformat_minor": 5
}
