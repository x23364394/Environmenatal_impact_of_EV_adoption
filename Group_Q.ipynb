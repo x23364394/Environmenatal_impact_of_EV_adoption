{
 "cells": [
  {
   "attachments": {},
   "cell_type": "markdown",
   "id": "7f19ddb0-1aa7-42cb-9e8f-406f076297f9",
   "metadata": {},
   "source": [
    "# <b><U>9APDV: Analytics Programming & Data Visualization<b>"
   ]
  },
  {
   "cell_type": "markdown",
   "id": "127fd6b6-4e00-451c-a791-687a1e60542d",
   "metadata": {},
   "source": [
    "## CA-2 - Group Project[ 70 Marks]"
   ]
  },
  {
   "cell_type": "markdown",
   "id": "5fb256ec-5e2d-43a0-93b5-6a73b9733259",
   "metadata": {},
   "source": [
    "## 0. Team Introduction"
   ]
  },
  {
   "cell_type": "markdown",
   "id": "f405056c-b6f6-45ed-93e6-bbd0a6e448a8",
   "metadata": {},
   "source": [
    "1.1. Student Name  : <b>Vishal Chaudhary</b> <br> \n",
    "1.2. Student ID    : <b>23332794</b> <br>\n",
    "1.3. Stduent Email : x23332794@student.ncirl.ie <br>\n",
    "\n",
    "2.1. Student Name  : <b>Murtza Arab </b> <br>\n",
    "2.2. Student ID    : <b>23364394 </b> <br>\n",
    "2.3. Stduent Email : x23364394@student.ncirl.ie  <br>\n",
    "\n",
    "3.1. Student Name  : <b>Danish Rehman </b> <br>\n",
    "3.2. Student ID    : <b>23425857 </b> <br>\n",
    "3.3. Stduent Email : x23425857@student.ncirl.ie  <br>"
   ]
  },
  {
   "cell_type": "markdown",
   "id": "2193e451-e82a-40ed-8d1f-076b171e55ea",
   "metadata": {},
   "source": [
    "## 1.1 <b>Washington AQI Data Description<b> \n",
    "\n",
    " <font size=\"+0.8\"><b>Features description:</b></font>\n",
    "\"\"\"\n",
    "<ul>\n",
    "    <br><li><b>state_code</b>: Numeric code representing the U.S. state where the monitoring site is located.</li>\n",
    "    <br><li><b>county_code</b>: Numeric code representing the county within the state.</li>\n",
    "    <br><li><b>site_number</b>: Unique identifier for the specific monitoring site.</li>\n",
    "    <br><li><b>parameter_code</b>: Numeric code for the type of pollutant or parameter being measured.</li>\n",
    "    <br><li><b>poc</b>: Parameter Occurrence Code – used to distinguish between multiple instruments measuring the same parameter at a site.</li>\n",
    "    <br><li><b>latitude</b>: Geographic latitude of the monitoring site.</li>\n",
    "    <br><li><b>longitude</b>: Geographic longitude of the monitoring site.</li>\n",
    "    <br><li><b>datum</b>: Geodetic datum used for the site's geographic coordinates (WGS84)</li>\n",
    "    <br><li><b>parameter</b>: \tName of the pollutant or parameter measured \"PM2.5 - Local Conditions\".</li>\n",
    "    <br><li><b>sample_duration_code</b>: Coded value representing the duration of the sample collection.</li>\n",
    "    <br><li><b>sample_duration</b>: Full name/description of the sample duration.</li>\n",
    "    <br><li><b>pollutant_standard</b>: Air quality standard associated with the parameter.</li>\n",
    "    <br><li><b>date_local</b>: Date of observation format: YYYY-MM-DD.</li>\n",
    "    <br><li><b>units_of_measure</b>: Units in which the pollutant concentration is measured.</li>\n",
    "    <br><li><b>event_type</b>: Type of event during sampling.</li>\n",
    "    <br><li><b>observation_count</b>: Number of observations included in the reported value calculation.</li>\n",
    "    <br><li><b>observation_percent</b>: Percentage of observations needed to be measured over the sample period.</li>\n",
    "    <br><li><b>validity_indicator</b>: Indicator flag for whether the data is valid.</li>\n",
    "    <br><li><b>arithmetic_mean</b>: Average concentration value of the pollutant.</li>\n",
    "    <br><li><b>first_max_value</b>: Maximum concentration value observed.</li>\n",
    "    <br><li><b>first_max_hour</b>: Day hour (0–23) when the first_max_value was achieved.</li>\n",
    "    <br><li><b>aqi</b>: Air Quality Index value based upon the observation.</li>\n",
    "    <br><li><b>method_code</b>: Numerical code referring to the method in which the pollutant was measured.</li>\n",
    "    <br><li><b>method</b>: Indicates measurement method used.</li>\n",
    "    <br><li><b>local_site_name</b>: Monitor location name, as provided by the local agency.</li>\n",
    "    <br><li><b>site_address</b>: Physical street address of monitoring site.</li>\n",
    "    <br><li><b>state</b>: Complete title of the U.S. state where the site is located.</li>\n",
    "    <br><li><b>county</b>: Complete title of the county where the site is located.</li>\n",
    "    <br><li><b>city</b>: City/town name where monitoring site is located.</li>\n",
    "    <br><li><b>cbsa_code</b>: Core-Based Statistical Area code — identifies metropolitan/micropolitan divisions.</li>\n",
    "    <br><li><b>cbsa</b>: Core-Based Statistical Area code —CBSA region name .</li>\n",
    "    <br><li><b>date_of_last_change</b>: Date on which the data for this record was last changed.</li>\n",
    "</ul>\n",
    "\"\"\""
   ]
  },
  {
   "cell_type": "markdown",
   "id": "e713b4dc-965b-4df3-a040-ee43759e1a06",
   "metadata": {},
   "source": [
    "## 2.1 AQI DATA IMPORT\n",
    "Importing AQI data from United States Environmental Protection Agency through API\n",
    "\n",
    "Data source: https://aqs.epa.gov/aqsweb/documents/data_api.html \n",
    "\n",
    "Sample Url: https://aqs.epa.gov/data/api/dailyData/bySiteemail=test@aqs.api&key=test&param=44201&bdate=20170618&edate=20170618&state=37&county=183&site=0014"
   ]
  },
  {
   "cell_type": "code",
   "execution_count": 7,
   "id": "d84915b5-58cf-486a-b987-3bbc3d45ffc6",
   "metadata": {},
   "outputs": [],
   "source": [
    "# Importing all required libraries  \n",
    "import requests\n",
    "import json\n",
    "import pymongo\n",
    "import numpy as np\n",
    "import pandas as pd\n",
    "import seaborn as sns\n",
    "import mysql.connector\n",
    "from datetime import datetime\n",
    "from pymongo import MongoClient\n",
    "import matplotlib.pyplot as plt\n"
   ]
  },
  {
   "cell_type": "code",
   "execution_count": 8,
   "id": "c208a83d-4df6-405c-aef6-b474696952fb",
   "metadata": {},
   "outputs": [],
   "source": [
    "# Environmental protection Agency api credentials that is going to be used to collect data\n",
    "acc_email = \"ch.vishal400@gmail.com\"  \n",
    "acc_apikey = \"sandkit13\" "
   ]
  },
  {
   "cell_type": "code",
   "execution_count": 9,
   "id": "65b3f1ec-228f-4ef2-93c6-ee254e36acbf",
   "metadata": {},
   "outputs": [],
   "source": [
    "# common link to retrieve data by providing required parameters\n",
    "com_url = \"https://aqs.epa.gov/data/api/dailyData/byState\"\n",
    "\n",
    "# parameters that are required by the common link to retrieve data\n",
    "params = {\n",
    "    \"email\": acc_email,\n",
    "    \"key\": acc_apikey,\n",
    "    \"param\": \"88101\",  # PM2.5 (Particulate Matter pollution Local Conditions)\n",
    "    \"bdate\": \"20240101\",  # Dataset Begining date 1 January 2024\n",
    "    \"edate\": \"20241231\",  # Dataset Ending date 31 December 2024\n",
    "    \"state\": \"53\" }  # code of the Washington state"
   ]
  },
  {
   "cell_type": "code",
   "execution_count": 10,
   "id": "0170b723-e67b-4c02-bdad-77d28e1291dd",
   "metadata": {},
   "outputs": [],
   "source": [
    "# defining function to get data from EPA by using api\n",
    "def air_quality(com_url, params):\n",
    "    response = requests.get(com_url, params=params)\n",
    "    if response.status_code == 200:\n",
    "        wa_data = response.json()\n",
    "        if wa_data[\"Header\"][0][\"status\"] == \"Success\":\n",
    "            return wa_data[\"Data\"]\n",
    "        else:\n",
    "            print(\"Some error occured:\", wa_data[\"Header\"][0][\"error\"])\n",
    "            return None\n",
    "    else:\n",
    "        print(f\" Error: {response.status_code}\")\n",
    "        return None\n"
   ]
  },
  {
   "cell_type": "code",
   "execution_count": 11,
   "id": "92188ebd-26ef-46d3-9b71-71474eef41d2",
   "metadata": {},
   "outputs": [
    {
     "name": "stdout",
     "output_type": "stream",
     "text": [
      "Stared collecting data of washington aqi, 2024...\n"
     ]
    }
   ],
   "source": [
    "# retrieving the dataset of Washington aqi from EPA and converting it to dataframe\n",
    "print(\"Stared collecting data of washington aqi, 2024...\")\n",
    "air_quality_data = air_quality(com_url, params)\n",
    "\n",
    "wa_air_quality = pd.DataFrame(air_quality_data)  "
   ]
  },
  {
   "cell_type": "code",
   "execution_count": 12,
   "id": "6f17b333-92ec-4b74-8dd7-f027f8214175",
   "metadata": {},
   "outputs": [
    {
     "name": "stdout",
     "output_type": "stream",
     "text": [
      "<class 'pandas.core.frame.DataFrame'>\n",
      "  state_code county_code site_number parameter_code  poc   latitude  \\\n",
      "0         53         033        0030          88101    5  47.597222   \n",
      "1         53         033        0030          88101    5  47.597222   \n",
      "2         53         033        0030          88101    5  47.597222   \n",
      "3         53         033        0030          88101    5  47.597222   \n",
      "4         53         033        0030          88101    5  47.597222   \n",
      "\n",
      "    longitude  datum                 parameter sample_duration_code  ...  \\\n",
      "0 -122.319722  WGS84  PM2.5 - Local Conditions                    1  ...   \n",
      "1 -122.319722  WGS84  PM2.5 - Local Conditions                    X  ...   \n",
      "2 -122.319722  WGS84  PM2.5 - Local Conditions                    X  ...   \n",
      "3 -122.319722  WGS84  PM2.5 - Local Conditions                    X  ...   \n",
      "4 -122.319722  WGS84  PM2.5 - Local Conditions                    X  ...   \n",
      "\n",
      "  method_code                                             method  \\\n",
      "0         170  Met One BAM-1020 Mass Monitor w/VSCC - Beta At...   \n",
      "1         170  Met One BAM-1020 Mass Monitor w/VSCC - Beta At...   \n",
      "2         170  Met One BAM-1020 Mass Monitor w/VSCC - Beta At...   \n",
      "3         170  Met One BAM-1020 Mass Monitor w/VSCC - Beta At...   \n",
      "4         170  Met One BAM-1020 Mass Monitor w/VSCC - Beta At...   \n",
      "\n",
      "         local_site_name   site_address       state  county     city  \\\n",
      "0  Seattle-10th & Weller  10th & Weller  Washington    King  Seattle   \n",
      "1  Seattle-10th & Weller  10th & Weller  Washington    King  Seattle   \n",
      "2  Seattle-10th & Weller  10th & Weller  Washington    King  Seattle   \n",
      "3  Seattle-10th & Weller  10th & Weller  Washington    King  Seattle   \n",
      "4  Seattle-10th & Weller  10th & Weller  Washington    King  Seattle   \n",
      "\n",
      "  cbsa_code                         cbsa  date_of_last_change  \n",
      "0     42660  Seattle-Tacoma-Bellevue, WA           2025-04-04  \n",
      "1     42660  Seattle-Tacoma-Bellevue, WA           2025-04-04  \n",
      "2     42660  Seattle-Tacoma-Bellevue, WA           2025-04-04  \n",
      "3     42660  Seattle-Tacoma-Bellevue, WA           2025-04-04  \n",
      "4     42660  Seattle-Tacoma-Bellevue, WA           2025-04-04  \n",
      "\n",
      "[5 rows x 32 columns]\n",
      "['state_code', 'county_code', 'site_number', 'parameter_code', 'poc', 'latitude', 'longitude', 'datum', 'parameter', 'sample_duration_code', 'sample_duration', 'pollutant_standard', 'date_local', 'units_of_measure', 'event_type', 'observation_count', 'observation_percent', 'validity_indicator', 'arithmetic_mean', 'first_max_value', 'first_max_hour', 'aqi', 'method_code', 'method', 'local_site_name', 'site_address', 'state', 'county', 'city', 'cbsa_code', 'cbsa', 'date_of_last_change']\n",
      "Number of rows: 70939\n"
     ]
    }
   ],
   "source": [
    "# checking the overall data \n",
    "print(type(wa_air_quality))  \n",
    "print(wa_air_quality.head())  \n",
    "print(wa_air_quality.columns.tolist())\n",
    "print(\"Number of rows:\", len(wa_air_quality))"
   ]
  },
  {
   "cell_type": "code",
   "execution_count": 13,
   "id": "9f567932-628a-4a63-9207-2faed8606b30",
   "metadata": {},
   "outputs": [],
   "source": [
    "# saving this dataset in the json file\n",
    "with open('air_quality_washington.json', 'w') as f:\n",
    "    json.dump(air_quality_data, f, indent=4)"
   ]
  },
  {
   "cell_type": "markdown",
   "id": "fee04eb1-dde1-4266-899e-b684ad8c4cb0",
   "metadata": {},
   "source": [
    "## 1.2 <b>Washington Alternate Fuel Stations Description<b> \n",
    "\n",
    " <font size=\"+0.8\"><b>Features description:</b></font>\n",
    "\"\"\"\n",
    "<ul>\n",
    "    <br><li><b>access_code</b>: Specifies the access level of the station (e.g., public, private).</li>\n",
    "        <br><li><b>access_days</b>: Indicates the days the station is accessible (e.g., Mon-Fri).</li>\n",
    "        <br><li><b>access_detail_cards</b>: Details about access cards or methods for station use (e.g., RFID, app).</li>\n",
    "        <br><li><b>accept_date</b>: Date when the station started accepting a specific fuel type.</li>\n",
    "        <br><li><b>last_co_expected_date</b>: Last date the station was expected to confirm its operational status.</li>\n",
    "        <br><li><b>fuel_type_code</b>: Code representing the type of fuel offered (e.g., ELEC for electric).</li>\n",
    "        <br><li><b>groups_with_id</b>: Identifier for groups or networks the station is part of (e.g., charging network ID).</li>\n",
    "        <br><li><b>maximum_ve_open_date</b>: The latest date a vehicle can access the station based on its operational schedule.</li>\n",
    "        <br><li><b>owner_type</b>: Type of entity that owns the station (e.g., government, private company).</li>\n",
    "        <br><li><b>restricted_access</b>: Indicates if access to the station is restricted (e.g., employees only).</li>\n",
    "        <br><li><b>funding_source</b>: Source of funding for the station (e.g., federal grant, private investment).</li>\n",
    "        <br><li><b>facility_type</b>: Type of facility where the station is located (e.g., gas station, parking lot).</li>\n",
    "        <br><li><b>station_name</b>: Name of the fuel station (e.g., \"Downtown Charging Hub\").</li>\n",
    "        <br><li><b>station_phone</b>: Phone number for contacting the station.</li>\n",
    "        <br><li><b>updated_at</b>: Timestamp of the last update to the station’s data.</li>\n",
    "        <br><li><b>geocode_status</b>: Status of the geocoding process for the station’s location (e.g., 200-9 for success).</li>\n",
    "        <br><li><b>latitude</b>: Geographic latitude coordinate of the station.</li>\n",
    "        <br><li><b>longitude</b>: Geographic longitude coordinate of the station.</li>\n",
    "        <br><li><b>city</b>: City where the station is located (e.g., Seattle).</li>\n",
    "        <br><li><b>country</b>: Country where the station is located (e.g., US).</li>\n",
    "        <br><li><b>intersection_plus4</b>: Additional intersection details for the station’s address (e.g., cross streets).</li>\n",
    "        <br><li><b>state</b>: State where the station is located (e.g., WA).</li>\n",
    "        <br><li><b>street_address</b>: Street address of the station (e.g., 123 Main St).</li>\n",
    "        <br><li><b>zip</b>: ZIP code of the station’s location (e.g., 98101).</li>\n",
    "        <br><li><b>bd_blends</b>: Types of biodiesel blends offered at the station (e.g., B20).</li>\n",
    "        <br><li><b>cng_dispenser</b>: Number or type of compressed natural gas (CNG) dispensers at the station.</li>\n",
    "        <br><li><b>cng_fill_type</b>: Type of CNG fill available (e.g., fast-fill, time-fill).</li>\n",
    "        <br><li><b>cng_psi</b>: Pressure level of CNG offered (e.g., 3600 psi).</li>\n",
    "        <br><li><b>cng_renewable</b>: Indicates if the CNG is sourced from renewable methods (e.g., yes/no).</li>\n",
    "        <br><li><b>cng_total_co</b>: Total compression capacity for CNG at the station.</li>\n",
    "        <br><li><b>cng_total_stc</b>: Total storage capacity for CNG at the station.</li>\n",
    "        <br><li><b>cng_vehicle</b>: Types of vehicles supported by the CNG station (e.g., heavy-duty, light-duty).</li>\n",
    "    </ul>"
   ]
  },
  {
   "cell_type": "markdown",
   "id": "3d1f47ca-30d1-41a5-a239-9d5f8fd819e5",
   "metadata": {},
   "source": [
    "## 2.2 Alternate Fuel Stations DATA IMPORT\n",
    "Importing Alternate Fuel Stations data from United States Environmental Protection Agency through API\n",
    "\n",
    "Data source: https://developer.nrel.gov/api/alt-fuel-stations/v1.json?api_key=8DqksjoYZYBuMOBaVo9ExjXoHmhYSPY3qLd34oHH \n",
    "\n"
   ]
  },
  {
   "cell_type": "code",
   "execution_count": 16,
   "id": "60344ef2-f001-45ba-9662-55a12f087b01",
   "metadata": {},
   "outputs": [
    {
     "name": "stdout",
     "output_type": "stream",
     "text": [
      "JSON file saved as Alt_fuel_stations.json\n"
     ]
    }
   ],
   "source": [
    "#Importing data through API with python REQUESTS module \n",
    "\n",
    "def download_json_from_api(api_url, output_file=\"output.json\"):\n",
    "    try:\n",
    "        # Send GET request to the API\n",
    "        response = requests.get(api_url)\n",
    "        response.raise_for_status()\n",
    "        json_data = response.json()\n",
    "        \n",
    "        # Saving JSON to file\n",
    "        with open(output_file, 'w') as f:\n",
    "            import json\n",
    "            json.dump(json_data, f, indent=4)\n",
    "            \n",
    "        print(f\"JSON file saved as {output_file}\")\n",
    "        \n",
    "    except requests.exceptions.RequestException as e:\n",
    "        print(f\"Error downloading file: {e}\")\n",
    "    except ValueError as e:\n",
    "        print(f\"Error parsing JSON: {e}\")\n",
    "    except IOError as e:\n",
    "        print(f\"Error saving file: {e}\")\n",
    "\n",
    "api_url = \"https://developer.nrel.gov/api/alt-fuel-stations/v1.json?api_key=8DqksjoYZYBuMOBaVo9ExjXoHmhYSPY3qLd34oHH\" \n",
    "download_json_from_api(api_url, \"Alt_fuel_stations.json\")"
   ]
  },
  {
   "cell_type": "markdown",
   "id": "b93d3112",
   "metadata": {},
   "source": [
    "## 1.3 <b>Washington EV Vehicle Regisrtions Description<b> \n",
    "\n",
    " <font size=\"+0.8\"><b>Features description:</b></font>\n",
    "\n",
    "<ul>\n",
    "    <br><li><b>Fiscal Year</b>: Descries about the year when the vehicle was purchased.</li>\n",
    "    <br><li><b>Transaction Date</b>: Descries about the exact date when the vehicle was purchased</li>\n",
    "    <br><li><b>Transaction County</b>: Descries about the county where the vehicle was purchased.</li>\n",
    "    <br><li><b>Residential County</b>: Descries about the residentail county of the owner of the vehicle.</li>\n",
    "    <br><li><b>Fuel Type</b>: Descries about the type of fuel vehicle runs on.</li>\n",
    "    <br><li><b>Primary Use Class</b>: Tells us about for what purpose the vehiicle is used in.</li>\n",
    "    \n",
    "</ul>\n"
   ]
  },
  {
   "cell_type": "markdown",
   "id": "521a18f8",
   "metadata": {},
   "source": [
    "## 2.3 Washington EV Vehicle Regisrtion\n",
    "\n",
    "Data imported from local system and downloaded from the link mentioned below in the json format.\n",
    "\n",
    "https://catalog.data.gov/dataset/vehicle-registrations-by-class-and-county\n",
    "\n"
   ]
  },
  {
   "cell_type": "markdown",
   "id": "395c2b89-8ec9-4069-bb55-d7dd3ff57000",
   "metadata": {},
   "source": [
    "## 3.1 Connection With MongoDB and Data Transformation"
   ]
  },
  {
   "cell_type": "code",
   "execution_count": 13,
   "id": "da2b54a0-df5c-48ff-b54c-2d60cf0c616e",
   "metadata": {},
   "outputs": [],
   "source": [
    "# Connect to MongoDB\n",
    "mongo_cl = MongoClient(\"mongodb://localhost:27017/\")\n",
    "mongo_db = mongo_cl[\"Group_Q_db\"]\n",
    "mongo_collection = mongo_db[\"air_quality\"]"
   ]
  },
  {
   "cell_type": "code",
   "execution_count": 21,
   "id": "757de923-f36e-4e72-8399-fa6816a147ea",
   "metadata": {},
   "outputs": [],
   "source": [
    "with open(\"air_quality_washington.json\") as f:\n",
    "    data = json.load(f)"
   ]
  },
  {
   "cell_type": "code",
   "execution_count": 22,
   "id": "da387d8d-7480-48c9-afd6-bf40e5752703",
   "metadata": {},
   "outputs": [
    {
     "name": "stdout",
     "output_type": "stream",
     "text": [
      "[{'state_code': '53', 'county_code': '033', 'site_number': '0030', 'parameter_code': '88101', 'poc': 5, 'latitude': 47.597222, 'longitude': -122.319722, 'datum': 'WGS84', 'parameter': 'PM2.5 - Local Conditions', 'sample_duration_code': '1', 'sample_duration': '1 HOUR', 'pollutant_standard': None, 'date_local': '2024-01-01', 'units_of_measure': 'Micrograms/cubic meter (LC)', 'event_type': 'No Events', 'observation_count': 24, 'observation_percent': 100.0, 'validity_indicator': 'Y', 'arithmetic_mean': 20.083333, 'first_max_value': 43.0, 'first_max_hour': 6, 'aqi': None, 'method_code': '170', 'method': 'Met One BAM-1020 Mass Monitor w/VSCC - Beta Attenuation', 'local_site_name': 'Seattle-10th & Weller', 'site_address': '10th & Weller', 'state': 'Washington', 'county': 'King', 'city': 'Seattle', 'cbsa_code': '42660', 'cbsa': 'Seattle-Tacoma-Bellevue, WA', 'date_of_last_change': '2025-04-04'}, {'state_code': '53', 'county_code': '033', 'site_number': '0030', 'parameter_code': '88101', 'poc': 5, 'latitude': 47.597222, 'longitude': -122.319722, 'datum': 'WGS84', 'parameter': 'PM2.5 - Local Conditions', 'sample_duration_code': 'X', 'sample_duration': '24-HR BLK AVG', 'pollutant_standard': 'PM25 24-hour 2006', 'date_local': '2024-01-01', 'units_of_measure': 'Micrograms/cubic meter (LC)', 'event_type': 'No Events', 'observation_count': 1, 'observation_percent': 100.0, 'validity_indicator': 'Y', 'arithmetic_mean': 20.0, 'first_max_value': 20.0, 'first_max_hour': 0, 'aqi': 71, 'method_code': '170', 'method': 'Met One BAM-1020 Mass Monitor w/VSCC - Beta Attenuation', 'local_site_name': 'Seattle-10th & Weller', 'site_address': '10th & Weller', 'state': 'Washington', 'county': 'King', 'city': 'Seattle', 'cbsa_code': '42660', 'cbsa': 'Seattle-Tacoma-Bellevue, WA', 'date_of_last_change': '2025-04-04'}]\n"
     ]
    }
   ],
   "source": [
    "# Print first 2 records to inspect structure\n",
    "print(data[:2])"
   ]
  },
  {
   "cell_type": "code",
   "execution_count": 12,
   "id": "a973aebd-f587-4864-a29d-f1cd92dca456",
   "metadata": {},
   "outputs": [
    {
     "ename": "NameError",
     "evalue": "name 'mongo_collection' is not defined",
     "output_type": "error",
     "traceback": [
      "\u001b[1;31m---------------------------------------------------------------------------\u001b[0m",
      "\u001b[1;31mNameError\u001b[0m                                 Traceback (most recent call last)",
      "Cell \u001b[1;32mIn[12], line 2\u001b[0m\n\u001b[0;32m      1\u001b[0m \u001b[38;5;66;03m#Inserting data in mongo collection\u001b[39;00m\n\u001b[1;32m----> 2\u001b[0m mongo_collection\u001b[38;5;241m.\u001b[39minsert_many(data)\n\u001b[0;32m      3\u001b[0m \u001b[38;5;28mprint\u001b[39m(\u001b[38;5;124m\"\u001b[39m\u001b[38;5;124mData uploaded successfully!\u001b[39m\u001b[38;5;124m\"\u001b[39m)\n",
      "\u001b[1;31mNameError\u001b[0m: name 'mongo_collection' is not defined"
     ]
    }
   ],
   "source": [
    "#Inserting data in mongo collection\n",
    "mongo_collection.insert_many(data)\n",
    "print(\"Data uploaded successfully!\")"
   ]
  },
  {
   "cell_type": "code",
   "execution_count": 24,
   "id": "7f2f880a-249d-4848-85b1-598cf96024ce",
   "metadata": {},
   "outputs": [
    {
     "name": "stdout",
     "output_type": "stream",
     "text": [
      "Total documents: 70939\n"
     ]
    }
   ],
   "source": [
    "# Total number of docs present in collection\n",
    "count = mongo_collection.count_documents({}) # count docs in collection\n",
    "print(f\"Total documents: {count}\")"
   ]
  },
  {
   "cell_type": "code",
   "execution_count": 25,
   "id": "66429770-04cb-4784-9b8f-22e0798566f9",
   "metadata": {},
   "outputs": [],
   "source": [
    "df = mongo_collection.find() # gathering all docs from mongo\n",
    "mongo_data = pd.DataFrame(list(df)) # converting the data into dataframe"
   ]
  },
  {
   "cell_type": "code",
   "execution_count": 26,
   "id": "46181b20-977b-40c7-8680-ae7b96299bba",
   "metadata": {},
   "outputs": [
    {
     "name": "stdout",
     "output_type": "stream",
     "text": [
      "_id                      object\n",
      "state_code               object\n",
      "county_code              object\n",
      "site_number              object\n",
      "parameter_code           object\n",
      "poc                       int64\n",
      "latitude                float64\n",
      "longitude               float64\n",
      "datum                    object\n",
      "parameter                object\n",
      "sample_duration_code     object\n",
      "sample_duration          object\n",
      "pollutant_standard       object\n",
      "date_local               object\n",
      "units_of_measure         object\n",
      "event_type               object\n",
      "observation_count         int64\n",
      "observation_percent     float64\n",
      "validity_indicator       object\n",
      "arithmetic_mean         float64\n",
      "first_max_value         float64\n",
      "first_max_hour            int64\n",
      "aqi                     float64\n",
      "method_code              object\n",
      "method                   object\n",
      "local_site_name          object\n",
      "site_address             object\n",
      "state                    object\n",
      "county                   object\n",
      "city                     object\n",
      "cbsa_code                object\n",
      "cbsa                     object\n",
      "date_of_last_change      object\n",
      "dtype: object\n",
      "_id                        0\n",
      "state_code                 0\n",
      "county_code                0\n",
      "site_number                0\n",
      "parameter_code             0\n",
      "poc                        0\n",
      "latitude                   0\n",
      "longitude                  0\n",
      "datum                      0\n",
      "parameter                  0\n",
      "sample_duration_code       0\n",
      "sample_duration            0\n",
      "pollutant_standard      7787\n",
      "date_local                 0\n",
      "units_of_measure           0\n",
      "event_type                 0\n",
      "observation_count          0\n",
      "observation_percent        0\n",
      "validity_indicator         0\n",
      "arithmetic_mean            0\n",
      "first_max_value            0\n",
      "first_max_hour             0\n",
      "aqi                     7787\n",
      "method_code                0\n",
      "method                     0\n",
      "local_site_name         2039\n",
      "site_address               0\n",
      "state                      0\n",
      "county                     0\n",
      "city                       0\n",
      "cbsa_code               3718\n",
      "cbsa                    3718\n",
      "date_of_last_change        0\n",
      "dtype: int64\n"
     ]
    }
   ],
   "source": [
    "print(mongo_data.dtypes) # checking the datatypes of each column\n",
    "\n",
    "print(mongo_data.isnull().sum()) # checking if any value is missing in columns"
   ]
  },
  {
   "cell_type": "code",
   "execution_count": 27,
   "id": "a0527d9c-948d-4661-9684-3ab5b3bee0fd",
   "metadata": {},
   "outputs": [],
   "source": [
    "# deleting unwanted columns\n",
    "required_col = mongo_data.drop(['_id', 'state_code','county_code', 'site_number','parameter_code','first_max_hour', 'method_code','method',\n",
    "             'poc', 'latitude','longitude', 'datum','parameter','cbsa_code', 'site_address',\n",
    "             'sample_duration_code', 'sample_duration','pollutant_standard', 'units_of_measure','event_type'], axis = 1)"
   ]
  },
  {
   "cell_type": "code",
   "execution_count": 28,
   "id": "fa1944bd-c637-4b9b-8589-64617ab3c553",
   "metadata": {},
   "outputs": [],
   "source": [
    "required_col['cbsa'] = required_col['cbsa'].fillna('Unknown')  #filling missing values in column 'cbsa'\n",
    "required_col['local_site_name'] = required_col['local_site_name'].fillna('Unknown')  #filling missing values in column 'local_site_name'\n",
    "required_col['aqi'] = required_col['aqi'].fillna(required_col['arithmetic_mean']) # filling missing values in aqi column with values from mean columns\n"
   ]
  },
  {
   "cell_type": "code",
   "execution_count": 29,
   "id": "6055c4f1-0b1a-415c-89b0-62d629711e76",
   "metadata": {},
   "outputs": [
    {
     "name": "stdout",
     "output_type": "stream",
     "text": [
      "0   2024-01-01\n",
      "1   2024-01-01\n",
      "2   2024-01-01\n",
      "3   2024-01-01\n",
      "4   2024-01-01\n",
      "Name: date_local, dtype: datetime64[ns]\n"
     ]
    }
   ],
   "source": [
    "# convert normal date format to datetime, so that year and month can be extracted\n",
    "required_col['date_local'] = pd.to_datetime(required_col['date_local'], errors = 'coerce')\n",
    "print(required_col['date_local'].head()) # check few entries to check the format"
   ]
  },
  {
   "cell_type": "code",
   "execution_count": 30,
   "id": "9c8a208f-dcf2-4b4a-a23c-77b70ddda079",
   "metadata": {},
   "outputs": [],
   "source": [
    "required_col['year'] = required_col['date_local'].dt.year #extracted year from date_local column and create a new column 'year'\n",
    "required_col['month'] = required_col['date_local'].dt.month #extracted month from date_local column and create a new column 'month'\n",
    "required_col['week'] = required_col['date_local'].dt.isocalendar().week #extracted month from date_local column and create a new column 'week'"
   ]
  },
  {
   "cell_type": "code",
   "execution_count": 31,
   "id": "00b81670-589b-4d6c-a992-11d671f88bcc",
   "metadata": {},
   "outputs": [
    {
     "data": {
      "text/html": [
       "<div>\n",
       "<style scoped>\n",
       "    .dataframe tbody tr th:only-of-type {\n",
       "        vertical-align: middle;\n",
       "    }\n",
       "\n",
       "    .dataframe tbody tr th {\n",
       "        vertical-align: top;\n",
       "    }\n",
       "\n",
       "    .dataframe thead th {\n",
       "        text-align: right;\n",
       "    }\n",
       "</style>\n",
       "<table border=\"1\" class=\"dataframe\">\n",
       "  <thead>\n",
       "    <tr style=\"text-align: right;\">\n",
       "      <th></th>\n",
       "      <th>date_local</th>\n",
       "      <th>observation_count</th>\n",
       "      <th>observation_percent</th>\n",
       "      <th>validity_indicator</th>\n",
       "      <th>arithmetic_mean</th>\n",
       "      <th>first_max_value</th>\n",
       "      <th>aqi</th>\n",
       "      <th>local_site_name</th>\n",
       "      <th>state</th>\n",
       "      <th>county</th>\n",
       "      <th>city</th>\n",
       "      <th>cbsa</th>\n",
       "      <th>date_of_last_change</th>\n",
       "      <th>year</th>\n",
       "      <th>month</th>\n",
       "      <th>week</th>\n",
       "    </tr>\n",
       "  </thead>\n",
       "  <tbody>\n",
       "    <tr>\n",
       "      <th>0</th>\n",
       "      <td>2024-01-01</td>\n",
       "      <td>24</td>\n",
       "      <td>100.0</td>\n",
       "      <td>Y</td>\n",
       "      <td>20.083333</td>\n",
       "      <td>43.0</td>\n",
       "      <td>20.083333</td>\n",
       "      <td>Seattle-10th &amp; Weller</td>\n",
       "      <td>Washington</td>\n",
       "      <td>King</td>\n",
       "      <td>Seattle</td>\n",
       "      <td>Seattle-Tacoma-Bellevue, WA</td>\n",
       "      <td>2025-04-04</td>\n",
       "      <td>2024</td>\n",
       "      <td>1</td>\n",
       "      <td>1</td>\n",
       "    </tr>\n",
       "    <tr>\n",
       "      <th>1</th>\n",
       "      <td>2024-01-01</td>\n",
       "      <td>1</td>\n",
       "      <td>100.0</td>\n",
       "      <td>Y</td>\n",
       "      <td>20.000000</td>\n",
       "      <td>20.0</td>\n",
       "      <td>71.000000</td>\n",
       "      <td>Seattle-10th &amp; Weller</td>\n",
       "      <td>Washington</td>\n",
       "      <td>King</td>\n",
       "      <td>Seattle</td>\n",
       "      <td>Seattle-Tacoma-Bellevue, WA</td>\n",
       "      <td>2025-04-04</td>\n",
       "      <td>2024</td>\n",
       "      <td>1</td>\n",
       "      <td>1</td>\n",
       "    </tr>\n",
       "    <tr>\n",
       "      <th>2</th>\n",
       "      <td>2024-01-01</td>\n",
       "      <td>1</td>\n",
       "      <td>100.0</td>\n",
       "      <td>Y</td>\n",
       "      <td>20.000000</td>\n",
       "      <td>20.0</td>\n",
       "      <td>71.000000</td>\n",
       "      <td>Seattle-10th &amp; Weller</td>\n",
       "      <td>Washington</td>\n",
       "      <td>King</td>\n",
       "      <td>Seattle</td>\n",
       "      <td>Seattle-Tacoma-Bellevue, WA</td>\n",
       "      <td>2025-04-04</td>\n",
       "      <td>2024</td>\n",
       "      <td>1</td>\n",
       "      <td>1</td>\n",
       "    </tr>\n",
       "    <tr>\n",
       "      <th>3</th>\n",
       "      <td>2024-01-01</td>\n",
       "      <td>1</td>\n",
       "      <td>100.0</td>\n",
       "      <td>Y</td>\n",
       "      <td>20.000000</td>\n",
       "      <td>20.0</td>\n",
       "      <td>71.000000</td>\n",
       "      <td>Seattle-10th &amp; Weller</td>\n",
       "      <td>Washington</td>\n",
       "      <td>King</td>\n",
       "      <td>Seattle</td>\n",
       "      <td>Seattle-Tacoma-Bellevue, WA</td>\n",
       "      <td>2025-04-04</td>\n",
       "      <td>2024</td>\n",
       "      <td>1</td>\n",
       "      <td>1</td>\n",
       "    </tr>\n",
       "    <tr>\n",
       "      <th>4</th>\n",
       "      <td>2024-01-01</td>\n",
       "      <td>1</td>\n",
       "      <td>100.0</td>\n",
       "      <td>Y</td>\n",
       "      <td>20.000000</td>\n",
       "      <td>20.0</td>\n",
       "      <td>71.000000</td>\n",
       "      <td>Seattle-10th &amp; Weller</td>\n",
       "      <td>Washington</td>\n",
       "      <td>King</td>\n",
       "      <td>Seattle</td>\n",
       "      <td>Seattle-Tacoma-Bellevue, WA</td>\n",
       "      <td>2025-04-04</td>\n",
       "      <td>2024</td>\n",
       "      <td>1</td>\n",
       "      <td>1</td>\n",
       "    </tr>\n",
       "  </tbody>\n",
       "</table>\n",
       "</div>"
      ],
      "text/plain": [
       "  date_local  observation_count  observation_percent validity_indicator  \\\n",
       "0 2024-01-01                 24                100.0                  Y   \n",
       "1 2024-01-01                  1                100.0                  Y   \n",
       "2 2024-01-01                  1                100.0                  Y   \n",
       "3 2024-01-01                  1                100.0                  Y   \n",
       "4 2024-01-01                  1                100.0                  Y   \n",
       "\n",
       "   arithmetic_mean  first_max_value        aqi        local_site_name  \\\n",
       "0        20.083333             43.0  20.083333  Seattle-10th & Weller   \n",
       "1        20.000000             20.0  71.000000  Seattle-10th & Weller   \n",
       "2        20.000000             20.0  71.000000  Seattle-10th & Weller   \n",
       "3        20.000000             20.0  71.000000  Seattle-10th & Weller   \n",
       "4        20.000000             20.0  71.000000  Seattle-10th & Weller   \n",
       "\n",
       "        state county     city                         cbsa  \\\n",
       "0  Washington   King  Seattle  Seattle-Tacoma-Bellevue, WA   \n",
       "1  Washington   King  Seattle  Seattle-Tacoma-Bellevue, WA   \n",
       "2  Washington   King  Seattle  Seattle-Tacoma-Bellevue, WA   \n",
       "3  Washington   King  Seattle  Seattle-Tacoma-Bellevue, WA   \n",
       "4  Washington   King  Seattle  Seattle-Tacoma-Bellevue, WA   \n",
       "\n",
       "  date_of_last_change  year  month  week  \n",
       "0          2025-04-04  2024      1     1  \n",
       "1          2025-04-04  2024      1     1  \n",
       "2          2025-04-04  2024      1     1  \n",
       "3          2025-04-04  2024      1     1  \n",
       "4          2025-04-04  2024      1     1  "
      ]
     },
     "execution_count": 31,
     "metadata": {},
     "output_type": "execute_result"
    }
   ],
   "source": [
    "required_col.head()"
   ]
  },
  {
   "cell_type": "code",
   "execution_count": 36,
   "id": "8ab97394-5232-4771-8ad7-844bc56510d6",
   "metadata": {},
   "outputs": [
    {
     "name": "stdout",
     "output_type": "stream",
     "text": [
      "              aqi                     local_site_name                city  \\\n",
      "0       -1.704167                    Tacoma-S 36th St              Tacoma   \n",
      "1       -1.458333                   TACOMA - L STREET              Tacoma   \n",
      "2       -1.308696                    Tacoma-S 36th St              Tacoma   \n",
      "3       -1.166667               Vancouver-NE 84th Ave           Vancouver   \n",
      "4       -1.133333                             Unknown  Nespelem Community   \n",
      "...           ...                                 ...                 ...   \n",
      "15635  114.000000  TOPPENISH - WARD RD (YAKAMA TRIBE)           Toppenish   \n",
      "15636  119.000000  TOPPENISH - WARD RD (YAKAMA TRIBE)           Toppenish   \n",
      "15637  137.000000  TOPPENISH - WARD RD (YAKAMA TRIBE)           Toppenish   \n",
      "15638  153.000000                    YAKIMA - 4TH AVE              Yakima   \n",
      "15639  166.000000                   TACOMA - L STREET              Tacoma   \n",
      "\n",
      "         county date_local  observation_count  \n",
      "0        Pierce 2024-09-23                 24  \n",
      "1        Pierce 2024-05-16                 24  \n",
      "2        Pierce 2024-07-30                 23  \n",
      "3         Clark 2024-05-13                 24  \n",
      "4      Okanogan 2024-10-29                 24  \n",
      "...         ...        ...                ...  \n",
      "15635    Yakima 2024-08-02                  1  \n",
      "15636    Yakima 2024-07-25                  1  \n",
      "15637    Yakima 2024-08-03                  1  \n",
      "15638    Yakima 2024-07-25                  1  \n",
      "15639    Pierce 2024-07-05                  1  \n",
      "\n",
      "[15640 rows x 6 columns]\n"
     ]
    }
   ],
   "source": [
    "# maximum observation count by local aqi, local site name, city and county\n",
    "\n",
    "obs_max_count = required_col.groupby(['aqi', 'local_site_name', 'city', 'county', 'date_local'])['observation_count'].max().reset_index()\n",
    "print(obs_max_count)"
   ]
  },
  {
   "cell_type": "code",
   "execution_count": 38,
   "id": "7369eeee-2231-4396-a8ef-f7350557d3ea",
   "metadata": {},
   "outputs": [
    {
     "name": "stdout",
     "output_type": "stream",
     "text": [
      "      date_local  observation_count  observation_percent validity_indicator  \\\n",
      "0     2024-01-01                 24                100.0                  Y   \n",
      "61485 2024-03-04                 24                100.0                  Y   \n",
      "10652 2024-04-23                 24                100.0                  Y   \n",
      "45223 2024-02-19                 24                100.0                  Y   \n",
      "61476 2024-03-03                 24                100.0                  Y   \n",
      "...          ...                ...                  ...                ...   \n",
      "25069 2024-11-14                  1                100.0                  Y   \n",
      "25070 2024-11-14                  1                100.0                  Y   \n",
      "25071 2024-11-14                  1                100.0                  Y   \n",
      "25072 2024-11-14                  1                100.0                  Y   \n",
      "70938 2024-12-31                  1                100.0                  Y   \n",
      "\n",
      "       arithmetic_mean  first_max_value        aqi  \\\n",
      "0            20.083333             43.0  20.083333   \n",
      "61485         2.791667              9.0   2.791667   \n",
      "10652         4.375000             15.0   4.375000   \n",
      "45223         8.125000             14.0   8.125000   \n",
      "61476         2.166667              7.0   2.166667   \n",
      "...                ...              ...        ...   \n",
      "25069         9.900000              9.9  52.000000   \n",
      "25070         9.900000              9.9  52.000000   \n",
      "25071         9.900000              9.9  52.000000   \n",
      "25072         9.900000              9.9  52.000000   \n",
      "70938         5.000000              5.0  28.000000   \n",
      "\n",
      "                                   local_site_name       state     county  \\\n",
      "0                            Seattle-10th & Weller  Washington       King   \n",
      "61485  Sunnyside-S16th St (Harrison Middle School)  Washington     Yakima   \n",
      "10652                             Tacoma-S 36th St  Washington     Pierce   \n",
      "45223                        Bellingham-Pacific St  Washington    Whatcom   \n",
      "61476  Sunnyside-S16th St (Harrison Middle School)  Washington     Yakima   \n",
      "...                                            ...         ...        ...   \n",
      "25069                          Omak-Colville Tribe  Washington   Okanogan   \n",
      "25070                          Omak-Colville Tribe  Washington   Okanogan   \n",
      "25071                          Omak-Colville Tribe  Washington   Okanogan   \n",
      "25072                          Omak-Colville Tribe  Washington   Okanogan   \n",
      "70938                                      Unknown  Washington  Snohomish   \n",
      "\n",
      "                city                         cbsa date_of_last_change  year  \\\n",
      "0            Seattle  Seattle-Tacoma-Bellevue, WA          2025-04-04  2024   \n",
      "61485      Sunnyside                   Yakima, WA          2025-04-04  2024   \n",
      "10652         Tacoma  Seattle-Tacoma-Bellevue, WA          2025-04-04  2024   \n",
      "45223     Bellingham               Bellingham, WA          2025-04-04  2024   \n",
      "61476      Sunnyside                   Yakima, WA          2025-04-04  2024   \n",
      "...              ...                          ...                 ...   ...   \n",
      "25069  Not in a city                      Unknown          2025-04-03  2024   \n",
      "25070  Not in a city                      Unknown          2025-04-03  2024   \n",
      "25071  Not in a city                      Unknown          2025-04-03  2024   \n",
      "25072  Not in a city                      Unknown          2025-04-03  2024   \n",
      "70938        Everett  Seattle-Tacoma-Bellevue, WA          2025-04-04  2024   \n",
      "\n",
      "       month  week  \n",
      "0          1     1  \n",
      "61485      3    10  \n",
      "10652      4    17  \n",
      "45223      2     8  \n",
      "61476      3     9  \n",
      "...      ...   ...  \n",
      "25069     11    46  \n",
      "25070     11    46  \n",
      "25071     11    46  \n",
      "25072     11    46  \n",
      "70938     12     1  \n",
      "\n",
      "[70939 rows x 16 columns]\n"
     ]
    }
   ],
   "source": [
    "# sorted by observation count to see the highest values first\n",
    "obs_count = required_col.sort_values(by='observation_count', ascending=False)\n",
    "print(obs_count)"
   ]
  },
  {
   "cell_type": "code",
   "execution_count": 40,
   "id": "41aaae65-0030-4345-8cc5-f703aaa1a20b",
   "metadata": {},
   "outputs": [],
   "source": [
    "# to get output by the couties, cities, month and week \n",
    "\n",
    "sorted_required_col = required_col.groupby(['county', 'city', 'month', 'week']).agg({'arithmetic_mean': 'mean','first_max_value': 'max','aqi': 'mean','local_site_name': 'nunique','year': 'first'}).reset_index()"
   ]
  },
  {
   "cell_type": "code",
   "execution_count": 42,
   "id": "ac26983b-d458-4502-bcdd-4464bcaf8c34",
   "metadata": {},
   "outputs": [],
   "source": [
    "# Renaming the columns according the transformation for clarity\n",
    "sorted_required_col.rename(columns={'arithmetic_mean':'pollutant_mean', 'aqi':'aqi_avg'},inplace=True)"
   ]
  },
  {
   "cell_type": "code",
   "execution_count": 44,
   "id": "304ae50e-b0c3-4fa4-8930-a3a2e9989fb0",
   "metadata": {},
   "outputs": [
    {
     "name": "stdout",
     "output_type": "stream",
     "text": [
      "      county       city  month  week  pollutant_mean  first_max_value  \\\n",
      "0      Clark  Vancouver      1     1        5.233598             20.0   \n",
      "1      Clark  Vancouver      1     2        4.232879             18.0   \n",
      "2      Clark  Vancouver      1     3       11.234921             37.0   \n",
      "3      Clark  Vancouver      1     4        2.589792             16.0   \n",
      "4      Clark  Vancouver      1     5        5.274074             17.0   \n",
      "...      ...        ...    ...   ...             ...              ...   \n",
      "1027  Yakima     Yakima     12    48        9.602778             19.0   \n",
      "1028  Yakima     Yakima     12    49        6.631224             16.0   \n",
      "1029  Yakima     Yakima     12    50       12.554480             43.0   \n",
      "1030  Yakima     Yakima     12    51       11.912441             25.0   \n",
      "1031  Yakima     Yakima     12    52        6.448005             23.0   \n",
      "\n",
      "        aqi_avg  local_site_name  year  \n",
      "0     26.490741                1  2024  \n",
      "1     21.426530                1  2024  \n",
      "2     46.460317                1  2024  \n",
      "3     13.243760                1  2024  \n",
      "4     26.666667                1  2024  \n",
      "...         ...              ...   ...  \n",
      "1027  47.291667                1  2024  \n",
      "1028  34.185654                1  2024  \n",
      "1029  52.700959                1  2024  \n",
      "1030  51.247653                1  2024  \n",
      "1031  31.890258                1  2024  \n",
      "\n",
      "[1032 rows x 9 columns]\n"
     ]
    }
   ],
   "source": [
    "# data sort\n",
    "sorted_required_col.sort_values(by=['county', 'city', 'month','week'], inplace=True)\n",
    "print(sorted_required_col)"
   ]
  },
  {
   "cell_type": "code",
   "execution_count": 46,
   "id": "f9f2a99f-8a37-47e3-9d65-74d2218f5892",
   "metadata": {},
   "outputs": [],
   "source": [
    "# saving data in csv formart\n",
    "sorted_required_col.to_csv('cleaned_air_quality_washington.csv', index=False)"
   ]
  },
  {
   "cell_type": "markdown",
   "id": "bfec689c-be5c-460f-b468-52008a0819c5",
   "metadata": {},
   "source": [
    "## 4.1 Load data to postgresql"
   ]
  },
  {
   "cell_type": "code",
   "execution_count": null,
   "id": "f5664025-f4ee-4026-890f-5937cdae010b",
   "metadata": {},
   "outputs": [],
   "source": [
    "# import mysql.connector\n",
    "# import numpy as np\n",
    "\n",
    "# df = pd.read_csv('cleaned_air_quality_washington.csv')\n",
    "\n",
    "# print(df.head())\n",
    "\n",
    "# # Connecting to MySQL\n",
    "# mysql_con = mysql.connector.connect(host='localhost', user='aqi_user', password='Vishal123', \n",
    "#                                      database='ev_project_final')\n",
    "\n",
    "# # Created cursor to operate\n",
    "# cursor = mysql_con.cursor()\n",
    "\n",
    "# # Converting all pandas and numpy nullable types to Python types\n",
    "# con_df = df.copy()  \n",
    "# for col in con_df.columns:\n",
    "#     dtype = con_df[col].dtype\n",
    "#     if pd.api.types.is_integer_dtype(dtype):  \n",
    "#         con_df[col] = con_df[col].astype('int32', errors='ignore').fillna(0).apply(lambda x: int(x))  \n",
    "#     elif pd.api.types.is_float_dtype(dtype):  # Handles float64, float32\n",
    "#         con_df[col] = con_df[col].astype('float64', errors='ignore').fillna(0.0).apply(lambda x: float(x))  \n",
    "#     elif pd.api.types.is_string_dtype(dtype) or pd.api.types.is_object_dtype(dtype):\n",
    "#         con_df[col] = con_df[col].astype(str).replace('nan', '') \n",
    "        \n",
    "# # Dropping table if it exists\n",
    "# cursor.execute(\"DROP TABLE IF EXISTS ev_analysis\")\n",
    "\n",
    "# # Creating table with data of DataFrame \n",
    "# columns = con_df.columns\n",
    "# column_dtypes = []\n",
    "# for col in columns:\n",
    "#     dtype = con_df[col].dtype\n",
    "#     if pd.api.types.is_integer_dtype(dtype):\n",
    "#         column_dtypes.append(f\"`{col}` INT\")\n",
    "#     elif pd.api.types.is_float_dtype(dtype):\n",
    "#         column_dtypes.append(f\"`{col}` FLOAT\")\n",
    "#     else:\n",
    "#         column_dtypes.append(f\"`{col}` VARCHAR(255)\")  \n",
    "\n",
    "# # Creating table\n",
    "# create_table = f\"CREATE TABLE ev_analysis ({', '.join(column_dtypes)})\"\n",
    "# cursor.execute(create_table)\n",
    "\n",
    "# # Insert data in the created table \n",
    "# insert_data = f\"INSERT INTO ev_analysis ({', '.join([f'`{col}`' for col in columns])}) VALUES ({', '.join(['%s'] * len(columns))})\"\n",
    "# for row in con_df.itertuples(index=False):\n",
    "#     row = tuple(\n",
    "#         int(x) if pd.api.types.is_integer_dtype(type(x)) \n",
    "#         else float(x) if pd.api.types.is_float_dtype(type(x)) \n",
    "#         else str(x) for x in row\n",
    "#     )\n",
    "#     cursor.execute(insert_data, row)\n",
    "\n",
    "# # Commit changes\n",
    "# mysql_con.commit()\n",
    "\n",
    "# print(\"Cleaned data loaded into MySQL table 'ev_analysis'.\")\n",
    "\n",
    "# # Close cursor and connection\n",
    "# cursor.close()\n",
    "# mysql_con.close()"
   ]
  },
  {
   "cell_type": "markdown",
   "id": "acacace9",
   "metadata": {},
   "source": [
    "## 3.3 Connection With MongoDB and Data Transformation"
   ]
  },
  {
   "cell_type": "code",
   "execution_count": 5,
   "id": "2a1a5ac1",
   "metadata": {},
   "outputs": [],
   "source": [
    "import json\n",
    "from pymongo import MongoClient\n",
    "import pandas as pd\n",
    "from datetime import datetime\n",
    "\n",
    "#1:Now we try to upload the json to mongodb\n",
    "cl=MongoClient('mongodb://localhost:27017/')\n",
    "dab=cl['Group_Q_db']\n",
    "coll=dab['ev_registrations']\n",
    "coll.drop()\n",
    "\n",
    "with open('ev_registrations.json','r') as file:\n",
    "    json_da=json.load(file)\n",
    "da=json_da['data']\n",
    "colm=[col['name']for col in json_da['meta']['view']['columns']]\n",
    "data_dt=[dict(zip(colm,recd))for recd in da]\n",
    " "
   ]
  },
  {
   "cell_type": "code",
   "execution_count": 6,
   "id": "d00f1288",
   "metadata": {},
   "outputs": [
    {
     "name": "stdout",
     "output_type": "stream",
     "text": [
      "Total in MongoDB: 770809\n"
     ]
    }
   ],
   "source": [
    "#it is also necessary for us to insert it in chunks for better efficiency\n",
    "cz=1000\n",
    "total_rec=len(data_dt)\n",
    "for i in range(0,total_rec,cz):\n",
    "    ck=data_dt[i:i+cz]\n",
    "    coll.insert_many(ck)\n",
    "print(f\"Total in MongoDB: {coll.count_documents({})}\")  "
   ]
  },
  {
   "cell_type": "markdown",
   "id": "1288d47c",
   "metadata": {},
   "source": [
    "Once the data is stored in mongodb run this command in update section of mongodb\n",
    "\n",
    "{\n",
    "  $unset: {\n",
    "    'Transaction County': ''\n",
    "  }\n",
    "}"
   ]
  },
  {
   "cell_type": "code",
   "execution_count": 7,
   "id": "dd0174f6",
   "metadata": {},
   "outputs": [],
   "source": [
    "cl=MongoClient('mongodb://localhost:27017/')\n",
    "dab=cl['ev_project']\n",
    "coll=dab['ev_registrations']"
   ]
  },
  {
   "cell_type": "code",
   "execution_count": 8,
   "id": "8e5289a5",
   "metadata": {},
   "outputs": [],
   "source": [
    "sd=datetime(2023,1,1)\n",
    "ed=datetime(2025,6,30)\n",
    "evda=list(coll.find({'Fuel Type':'Electric','Transaction Date':{'$gte':sd.strftime('%Y-%m-%d'),'$lte':ed.strftime('%Y-%m-%d')}}))"
   ]
  },
  {
   "cell_type": "code",
   "execution_count": 9,
   "id": "afd56fc2",
   "metadata": {},
   "outputs": [
    {
     "name": "stdout",
     "output_type": "stream",
     "text": [
      "8797\n"
     ]
    }
   ],
   "source": [
    "df=pd.DataFrame(evda).drop(columns=['_id','sid','id','position','created_at','updated_at','updated_meta','meta','Fiscal Year'],errors='ignore')\n",
    "\n",
    "df['Counts']=pd.to_numeric(df['Counts'],errors='coerce')\n",
    "df=df.drop_duplicates()\n",
    "print(len(df))\n"
   ]
  },
  {
   "cell_type": "code",
   "execution_count": 10,
   "id": "e5f2a57b",
   "metadata": {},
   "outputs": [
    {
     "name": "stdout",
     "output_type": "stream",
     "text": [
      "uniq residential county 39\n",
      "unique fuel type 1\n",
      "8448\n"
     ]
    }
   ],
   "source": [
    "print('uniq residential county',df['Residential County'].nunique())\n",
    "print('unique fuel type',df['Fuel Type'].nunique())\n",
    "print(df['Counts'].max())  #we try to see the max value of counts\n"
   ]
  },
  {
   "cell_type": "code",
   "execution_count": 11,
   "id": "4b9a82ca",
   "metadata": {},
   "outputs": [
    {
     "name": "stdout",
     "output_type": "stream",
     "text": [
      "first 5 rows   Residential County YearMonth Fuel Type  Primary Use Class  Counts\n",
      "0              Adams   2023-01  Electric         Commercial       1\n",
      "1              Adams   2023-01  Electric  Passenger Vehicle       1\n",
      "2              Adams   2023-02  Electric              Truck       1\n",
      "3              Adams   2023-03  Electric  Passenger Vehicle       1\n",
      "4              Adams   2023-04  Electric  Passenger Vehicle       4\n"
     ]
    }
   ],
   "source": [
    "#we try to print only the monthly data instead of daily data\n",
    "df['Transaction Date']=pd.to_datetime(df['Transaction Date'])\n",
    "df['YearMonth']=df['Transaction Date'].dt.to_period('M')\n",
    "df_group=df.groupby(['Residential County','YearMonth','Fuel Type','Primary Use Class'],as_index=False)['Counts'].sum()\n",
    "df_group['Residential County']=df_group['Residential County'].str.strip()\n",
    "\n",
    "print('first 5 rows',df_group.head())\n",
    "df_group.to_csv('ev_cleaned_monthly.csv',index=False)"
   ]
  },
  {
   "cell_type": "markdown",
   "id": "dfae3a95-bf23-4f96-b265-1707cd5ce5f7",
   "metadata": {},
   "source": [
    "## 4. EDA"
   ]
  },
  {
   "cell_type": "code",
   "execution_count": null,
   "id": "5762e42c-25d1-4cbc-af4d-876c59dafb8c",
   "metadata": {},
   "outputs": [],
   "source": []
  }
 ],
 "metadata": {
  "kernelspec": {
   "display_name": "base",
   "language": "python",
   "name": "python3"
  },
  "language_info": {
   "codemirror_mode": {
    "name": "ipython",
    "version": 3
   },
   "file_extension": ".py",
   "mimetype": "text/x-python",
   "name": "python",
   "nbconvert_exporter": "python",
   "pygments_lexer": "ipython3",
   "version": "3.12.7"
  }
 },
 "nbformat": 4,
 "nbformat_minor": 5
}
